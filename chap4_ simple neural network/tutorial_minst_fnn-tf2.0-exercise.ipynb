{
 "cells": [
  {
   "cell_type": "markdown",
   "metadata": {},
   "source": [
    "## 准备数据"
   ]
  },
  {
   "cell_type": "code",
   "execution_count": 1,
   "metadata": {
    "ExecuteTime": {
     "end_time": "2025-03-23T02:30:09.524607900Z",
     "start_time": "2025-03-23T02:29:35.791771300Z"
    }
   },
   "outputs": [
    {
     "name": "stdout",
     "output_type": "stream",
     "text": [
      "WARNING:tensorflow:From C:\\Users\\86152\\AppData\\Local\\Programs\\Python\\Python311\\Lib\\site-packages\\keras\\src\\losses.py:2976: The name tf.losses.sparse_softmax_cross_entropy is deprecated. Please use tf.compat.v1.losses.sparse_softmax_cross_entropy instead.\n"
     ]
    }
   ],
   "source": [
    "import os\n",
    "import numpy as np\n",
    "import tensorflow as tf\n",
    "from tensorflow import keras\n",
    "from tensorflow.keras import layers, optimizers, datasets\n",
    "\n",
    "os.environ['TF_CPP_MIN_LOG_LEVEL'] = '2'  # or any {'0', '1', '2'}\n",
    "\n",
    "def mnist_dataset():\n",
    "    (x, y), (x_test, y_test) = datasets.mnist.load_data()\n",
    "    #normalize\n",
    "    x = x/255.0\n",
    "    x_test = x_test/255.0\n",
    "    \n",
    "    return (x, y), (x_test, y_test)"
   ]
  },
  {
   "cell_type": "code",
   "execution_count": 2,
   "metadata": {
    "ExecuteTime": {
     "end_time": "2025-03-23T02:33:52.140535700Z",
     "start_time": "2025-03-23T02:33:52.113841500Z"
    }
   },
   "outputs": [
    {
     "name": "stdout",
     "output_type": "stream",
     "text": [
      "[(1, 'a'), (2, 'b'), (3, 'c'), (4, 'd')]\n"
     ]
    }
   ],
   "source": [
    "print(list(zip([1, 2, 3, 4], ['a', 'b', 'c', 'd'])))"
   ]
  },
  {
   "cell_type": "markdown",
   "metadata": {},
   "source": [
    "## 建立模型"
   ]
  },
  {
   "cell_type": "code",
   "execution_count": 42,
   "metadata": {
    "ExecuteTime": {
     "end_time": "2025-03-23T04:09:06.850047300Z",
     "start_time": "2025-03-23T04:09:06.767254300Z"
    }
   },
   "outputs": [],
   "source": [
    "class myModel:\n",
    "    def __init__(self):\n",
    "        ####################\n",
    "        '''声明模型对应的参数'''\n",
    "        ####################\n",
    "        self.W1 = tf.Variable(tf.random.normal([28*28, 256]), name=\"W1\")\n",
    "        self.b1 = tf.Variable(tf.random.normal([256]), name=\"b1\")\n",
    "        self.W2 = tf.Variable(tf.random.normal([256, 10]), name=\"W2\")\n",
    "        self.b2 = tf.Variable(tf.random.normal([10]), name=\"b2\")\n",
    "    def __call__(self, x):\n",
    "        ####################\n",
    "        '''实现模型函数体，返回未归一化的logits'''\n",
    "        ####################\n",
    "        x = tf.reshape(x, (-1, 28 * 28))\n",
    "        \n",
    "        h1 = tf.nn.relu(tf.matmul(x, self.W1) + self.b1)\n",
    "        logits = tf.matmul(h1, self.W2) + self.b2\n",
    "        return logits      \n",
    "        \n",
    "        \n",
    "model = myModel()\n",
    "\n",
    "optimizer = optimizers.Adam()"
   ]
  },
  {
   "cell_type": "markdown",
   "metadata": {},
   "source": [
    "## 计算 loss"
   ]
  },
  {
   "cell_type": "code",
   "execution_count": 43,
   "metadata": {
    "ExecuteTime": {
     "end_time": "2025-03-23T04:09:08.301398800Z",
     "start_time": "2025-03-23T04:09:08.274734Z"
    }
   },
   "outputs": [],
   "source": [
    "@tf.function\n",
    "def compute_loss(logits, labels):\n",
    "    return tf.reduce_mean(\n",
    "        tf.nn.sparse_softmax_cross_entropy_with_logits(\n",
    "            logits=logits, labels=labels))\n",
    "\n",
    "@tf.function\n",
    "def compute_accuracy(logits, labels):\n",
    "    predictions = tf.argmax(logits, axis=1)\n",
    "    return tf.reduce_mean(tf.cast(tf.equal(predictions, labels), tf.float32))\n",
    "\n",
    "@tf.function\n",
    "def train_one_step(model, optimizer, x, y):\n",
    "    with tf.GradientTape() as tape:\n",
    "        logits = model(x)\n",
    "        loss = compute_loss(logits, y)\n",
    "\n",
    "    # compute gradient\n",
    "    trainable_vars = [model.W1, model.W2, model.b1, model.b2]\n",
    "    grads = tape.gradient(loss, trainable_vars)\n",
    "    for g, v in zip(grads, trainable_vars):\n",
    "        v.assign_sub(0.01*g)\n",
    "\n",
    "    accuracy = compute_accuracy(logits, y)\n",
    "\n",
    "    # loss and accuracy is scalar tensor\n",
    "    return loss, accuracy\n",
    "\n",
    "@tf.function\n",
    "def test(model, x, y):\n",
    "    logits = model(x)\n",
    "    loss = compute_loss(logits, y)\n",
    "    accuracy = compute_accuracy(logits, y)\n",
    "    return loss, accuracy"
   ]
  },
  {
   "cell_type": "markdown",
   "metadata": {},
   "source": [
    "## 实际训练"
   ]
  },
  {
   "cell_type": "code",
   "execution_count": 47,
   "metadata": {
    "ExecuteTime": {
     "end_time": "2025-03-23T04:13:55.229839400Z",
     "start_time": "2025-03-23T04:13:32.953492800Z"
    }
   },
   "outputs": [
    {
     "name": "stdout",
     "output_type": "stream",
     "text": [
      "epoch 0 : loss 16.940798 ; accuracy 0.63921666\n",
      "epoch 1 : loss 16.870346 ; accuracy 0.64021665\n",
      "epoch 2 : loss 16.8007 ; accuracy 0.64133334\n",
      "epoch 3 : loss 16.731842 ; accuracy 0.6424\n",
      "epoch 4 : loss 16.663761 ; accuracy 0.64356667\n",
      "epoch 5 : loss 16.596441 ; accuracy 0.64486665\n",
      "epoch 6 : loss 16.529871 ; accuracy 0.6457833\n",
      "epoch 7 : loss 16.46403 ; accuracy 0.64683336\n",
      "epoch 8 : loss 16.39891 ; accuracy 0.64788336\n",
      "epoch 9 : loss 16.33451 ; accuracy 0.6487\n",
      "epoch 10 : loss 16.27081 ; accuracy 0.6497\n",
      "epoch 11 : loss 16.207804 ; accuracy 0.65066665\n",
      "epoch 12 : loss 16.145466 ; accuracy 0.65181667\n",
      "epoch 13 : loss 16.083797 ; accuracy 0.6527167\n",
      "epoch 14 : loss 16.022808 ; accuracy 0.6536667\n",
      "epoch 15 : loss 15.962485 ; accuracy 0.6546\n",
      "epoch 16 : loss 15.902817 ; accuracy 0.65573335\n",
      "epoch 17 : loss 15.843794 ; accuracy 0.65675\n",
      "epoch 18 : loss 15.785415 ; accuracy 0.6576833\n",
      "epoch 19 : loss 15.727662 ; accuracy 0.6587\n",
      "epoch 20 : loss 15.670527 ; accuracy 0.65958333\n",
      "epoch 21 : loss 15.613992 ; accuracy 0.66043335\n",
      "epoch 22 : loss 15.558048 ; accuracy 0.66143334\n",
      "epoch 23 : loss 15.502694 ; accuracy 0.6623833\n",
      "epoch 24 : loss 15.447917 ; accuracy 0.66328335\n",
      "epoch 25 : loss 15.3937 ; accuracy 0.6641\n",
      "epoch 26 : loss 15.340037 ; accuracy 0.66505\n",
      "epoch 27 : loss 15.286916 ; accuracy 0.6658667\n",
      "epoch 28 : loss 15.234317 ; accuracy 0.66658336\n",
      "epoch 29 : loss 15.182229 ; accuracy 0.6676\n",
      "epoch 30 : loss 15.130645 ; accuracy 0.6681833\n",
      "epoch 31 : loss 15.079562 ; accuracy 0.6692\n",
      "epoch 32 : loss 15.028965 ; accuracy 0.66995\n",
      "epoch 33 : loss 14.978834 ; accuracy 0.6706167\n",
      "epoch 34 : loss 14.92917 ; accuracy 0.67155\n",
      "epoch 35 : loss 14.879966 ; accuracy 0.67225\n",
      "epoch 36 : loss 14.831216 ; accuracy 0.67296666\n",
      "epoch 37 : loss 14.782921 ; accuracy 0.67378336\n",
      "epoch 38 : loss 14.735074 ; accuracy 0.6745667\n",
      "epoch 39 : loss 14.68767 ; accuracy 0.6754\n",
      "epoch 40 : loss 14.640711 ; accuracy 0.67623335\n",
      "epoch 41 : loss 14.594188 ; accuracy 0.67695\n",
      "epoch 42 : loss 14.548094 ; accuracy 0.67775\n",
      "epoch 43 : loss 14.502425 ; accuracy 0.6787\n",
      "epoch 44 : loss 14.457177 ; accuracy 0.6796\n",
      "epoch 45 : loss 14.412335 ; accuracy 0.68021667\n",
      "epoch 46 : loss 14.367903 ; accuracy 0.6807333\n",
      "epoch 47 : loss 14.3238735 ; accuracy 0.68153334\n",
      "epoch 48 : loss 14.280242 ; accuracy 0.68215\n",
      "epoch 49 : loss 14.237 ; accuracy 0.68285\n",
      "test loss 13.591437 ; accuracy 0.6923\n"
     ]
    }
   ],
   "source": [
    "train_data, test_data = mnist_dataset()\n",
    "for epoch in range(50):\n",
    "    loss, accuracy = train_one_step(model, optimizer, \n",
    "                                    tf.constant(train_data[0], dtype=tf.float32), \n",
    "                                    tf.constant(train_data[1], dtype=tf.int64))\n",
    "    print('epoch', epoch, ': loss', loss.numpy(), '; accuracy', accuracy.numpy())\n",
    "loss, accuracy = test(model, \n",
    "                      tf.constant(test_data[0], dtype=tf.float32), \n",
    "                      tf.constant(test_data[1], dtype=tf.int64))\n",
    "\n",
    "print('test loss', loss.numpy(), '; accuracy', accuracy.numpy())"
   ]
  },
  {
   "cell_type": "code",
   "execution_count": null,
   "outputs": [],
   "source": [],
   "metadata": {
    "collapsed": false
   }
  }
 ],
 "metadata": {
  "kernelspec": {
   "display_name": "Python 3 (ipykernel)",
   "language": "python",
   "name": "python3"
  },
  "language_info": {
   "codemirror_mode": {
    "name": "ipython",
    "version": 3
   },
   "file_extension": ".py",
   "mimetype": "text/x-python",
   "name": "python",
   "nbconvert_exporter": "python",
   "pygments_lexer": "ipython3",
   "version": "3.11.5"
  }
 },
 "nbformat": 4,
 "nbformat_minor": 4
}
