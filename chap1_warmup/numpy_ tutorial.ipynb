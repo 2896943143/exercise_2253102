{
 "cells": [
  {
   "cell_type": "markdown",
   "metadata": {},
   "source": [
    "#                                           numpy 练习题"
   ]
  },
  {
   "cell_type": "markdown",
   "metadata": {
    "collapsed": true,
    "jupyter": {
     "outputs_hidden": true
    }
   },
   "source": [
    " "
   ]
  },
  {
   "cell_type": "markdown",
   "metadata": {},
   "source": [
    "### numpy 的array操作"
   ]
  },
  {
   "cell_type": "markdown",
   "metadata": {},
   "source": [
    "#### 1.导入numpy库"
   ]
  },
  {
   "cell_type": "code",
   "execution_count": 1,
   "metadata": {},
   "outputs": [],
   "source": [
    "import numpy as np"
   ]
  },
  {
   "cell_type": "markdown",
   "metadata": {},
   "source": [
    "#### 2.建立一个一维数组 a 初始化为[4,5,6], (1)输出a 的类型（type）(2)输出a的各维度的大小（shape）(3)输出 a的第一个元素（值为4）"
   ]
  },
  {
   "cell_type": "code",
   "execution_count": 2,
   "metadata": {},
   "outputs": [
    {
     "name": "stdout",
     "output_type": "stream",
     "text": [
      "a的类型： <class 'numpy.ndarray'>\n",
      "a的大小： (3,)\n",
      "a的第一个元素： 4\n"
     ]
    }
   ],
   "source": [
    "a=np.array([4,5,6])\n",
    "print(\"a的类型：\",type(a))\n",
    "print(\"a的大小：\",a.shape)\n",
    "print(\"a的第一个元素：\",a[0])"
   ]
  },
  {
   "cell_type": "markdown",
   "metadata": {},
   "source": [
    "#### 3.建立一个二维数组 b,初始化为 [ [4, 5, 6],[1, 2, 3]] (1)输出各维度的大小（shape）(2)输出 b(0,0)，b(0,1),b(1,1) 这三个元素（对应值分别为4,5,2）"
   ]
  },
  {
   "cell_type": "code",
   "execution_count": 3,
   "metadata": {},
   "outputs": [
    {
     "name": "stdout",
     "output_type": "stream",
     "text": [
      "b的大小： (2, 3)\n",
      "b(0,0): 4\n",
      "b(0,1): 5\n",
      "b(1,1): 2\n"
     ]
    }
   ],
   "source": [
    "b=np.array([[4,5,6],[1,2,3]])\n",
    "#(1)输出各维度的大小（shape）\n",
    "print(\"b的大小：\",b.shape)\n",
    "#(2)输出 b(0,0)，b(0,1),b(1,1) 这三个元素（对应值分别为4,5,2）\n",
    "print(\"b(0,0):\",b[0,0])\n",
    "print(\"b(0,1):\",b[0,1])\n",
    "print(\"b(1,1):\",b[1,1])"
   ]
  },
  {
   "cell_type": "markdown",
   "metadata": {},
   "source": [
    "#### 4.  (1)建立一个全0矩阵 a, 大小为 3x3; 类型为整型（提示: dtype = int）(2)建立一个全1矩阵b,大小为4x5;  (3)建立一个单位矩阵c ,大小为4x4; (4)生成一个随机数矩阵d,大小为 3x2."
   ]
  },
  {
   "cell_type": "code",
   "execution_count": 4,
   "metadata": {},
   "outputs": [
    {
     "name": "stdout",
     "output_type": "stream",
     "text": [
      "全0矩阵a：\n",
      " [[0 0 0]\n",
      " [0 0 0]\n",
      " [0 0 0]]\n",
      "全1矩阵b：\n",
      " [[1. 1. 1. 1. 1.]\n",
      " [1. 1. 1. 1. 1.]\n",
      " [1. 1. 1. 1. 1.]\n",
      " [1. 1. 1. 1. 1.]]\n",
      "单位矩阵c：\n",
      " [[1. 0. 0. 0.]\n",
      " [0. 1. 0. 0.]\n",
      " [0. 0. 1. 0.]\n",
      " [0. 0. 0. 1.]]\n",
      "随机数矩阵d：\n",
      " [[0.04509468 0.85383918]\n",
      " [0.4102255  0.32160814]\n",
      " [0.73198658 0.17531023]]\n"
     ]
    }
   ],
   "source": [
    "# (1) 建立一个全0矩阵 a，大小为 3x3，类型为整型\n",
    "a=np.zeros((3,3),dtype=int)\n",
    "print(\"全0矩阵a：\\n\",a)\n",
    "\n",
    "#(2)建立一个全1矩阵b,大小为4x5\n",
    "b=np.ones((4,5))\n",
    "print(\"全1矩阵b：\\n\",b)\n",
    "\n",
    "#(3)建立一个单位矩阵c ,大小为4x4; \n",
    "c=np.eye(4)\n",
    "print(\"单位矩阵c：\\n\",c)\n",
    "\n",
    "#(4)生成一个随机数矩阵d,大小为 3x2.\n",
    "d=np.random.random((3,2))\n",
    "print(\"随机数矩阵d：\\n\",d)\n"
   ]
  },
  {
   "cell_type": "markdown",
   "metadata": {},
   "source": [
    "#### 5. 建立一个数组 a,(值为[[1, 2, 3, 4], [5, 6, 7, 8], [9, 10, 11, 12]] ) ,(1)打印a; (2)输出  下标为(2,3),(0,0) 这两个数组元素的值"
   ]
  },
  {
   "cell_type": "code",
   "execution_count": 5,
   "metadata": {},
   "outputs": [
    {
     "name": "stdout",
     "output_type": "stream",
     "text": [
      "矩阵a：\n",
      " [[ 1  2  3  4]\n",
      " [ 5  6  7  8]\n",
      " [ 9 10 11 12]]\n",
      "a(2,3): 12\n",
      "a(0,0): 1\n"
     ]
    }
   ],
   "source": [
    "a=np.array([[1, 2, 3, 4], [5, 6, 7, 8], [9, 10, 11, 12]])\n",
    "\n",
    "#打印a\n",
    "print(\"矩阵a：\\n\",a)\n",
    "\n",
    "#输出下标为(2,3),(0,0) 这两个数组元素的值\n",
    "print(\"a(2,3):\",a[2,3])\n",
    "print(\"a(0,0):\",a[0,0])"
   ]
  },
  {
   "cell_type": "markdown",
   "metadata": {},
   "source": [
    "#### 6.把上一题的 a数组的 0到1行 2到3列，放到b里面去，（此处不需要从新建立a,直接调用即可）(1),输出b;(2) 输出b 的（0,0）这个元素的值"
   ]
  },
  {
   "cell_type": "code",
   "execution_count": 6,
   "metadata": {},
   "outputs": [
    {
     "name": "stdout",
     "output_type": "stream",
     "text": [
      "矩阵b：\n",
      " [[3 4]\n",
      " [7 8]]\n",
      "b(0,0): 3\n"
     ]
    }
   ],
   "source": [
    "#把上一题的 a数组的 0到1行 2到3列，放到b里面去\n",
    "b=a[0:2,2:4]\n",
    "\n",
    "#(1)输出b\n",
    "print(\"矩阵b：\\n\",b)\n",
    "print(\"b(0,0):\",b[0,0])"
   ]
  },
  {
   "cell_type": "markdown",
   "metadata": {},
   "source": [
    " #### 7. 把第5题中数组a的最后两行所有元素放到 c中，（提示： a[1:2, :]）(1)输出 c ; (2) 输出 c 中第一行的最后一个元素（提示，使用 -1                 表示最后一个元素）"
   ]
  },
  {
   "cell_type": "code",
   "execution_count": 8,
   "metadata": {},
   "outputs": [
    {
     "name": "stdout",
     "output_type": "stream",
     "text": [
      "矩阵c：\n",
      " [[ 5  6  7  8]\n",
      " [ 9 10 11 12]]\n",
      "c(0,-1)= 8\n"
     ]
    }
   ],
   "source": [
    "#把第5题中数组a的最后两行所有元素放到 c中\n",
    "c = a[-2:, :]\n",
    "\n",
    "#(1)输出 c\n",
    "print(\"矩阵c：\\n\",c)\n",
    "\n",
    "#(2) 输出 c 中第一行的最后一个元素\n",
    "print(\"c(0,-1)=\",c[0,-1])\n"
   ]
  },
  {
   "cell_type": "markdown",
   "metadata": {},
   "source": [
    "#### 8.建立数组a,初始化a为[[1, 2], [3, 4], [5, 6]]，输出 （0,0）（1,1）（2,0）这三个元素（提示： 使用 print(a[[0, 1, 2], [0, 1, 0]]) ）"
   ]
  },
  {
   "cell_type": "code",
   "execution_count": 9,
   "metadata": {},
   "outputs": [
    {
     "name": "stdout",
     "output_type": "stream",
     "text": [
      "[1 4 5]\n"
     ]
    }
   ],
   "source": [
    "#建立数组a,初始化a为[[1, 2], [3, 4], [5, 6]]\n",
    "a=np.array([[1, 2], [3, 4], [5, 6]])\n",
    "\n",
    "#输出（0,0）（1,1）（2,0）\n",
    "print(a[[0,1,2],[0,1,0]])"
   ]
  },
  {
   "cell_type": "markdown",
   "metadata": {},
   "source": [
    "#### 9.建立矩阵a ,初始化为[[1, 2, 3], [4, 5, 6], [7, 8, 9], [10, 11, 12]]，输出(0,0),(1,2),(2,0),(3,1) (提示使用 b = np.array([0, 2, 0, 1])                     print(a[np.arange(4), b]))"
   ]
  },
  {
   "cell_type": "code",
   "execution_count": 10,
   "metadata": {},
   "outputs": [
    {
     "name": "stdout",
     "output_type": "stream",
     "text": [
      "[ 1  6  7 11]\n"
     ]
    }
   ],
   "source": [
    "#建立矩阵a ,初始化为[[1, 2, 3], [4, 5, 6], [7, 8, 9], [10, 11, 12]]\n",
    "a=np.array([[1, 2, 3], [4, 5, 6], [7, 8, 9], [10, 11, 12]])\n",
    "\n",
    "#输出(0,0),(1,2),(2,0),(3,1)\n",
    "b=np.array([0,2,0,1])\n",
    "print(a[np.arange(4),b])\n"
   ]
  },
  {
   "cell_type": "markdown",
   "metadata": {},
   "source": [
    "#### 10.对9 中输出的那四个元素，每个都加上10，然后重新输出矩阵a.(提示： a[np.arange(4), b] += 10 ）"
   ]
  },
  {
   "cell_type": "code",
   "execution_count": 11,
   "metadata": {},
   "outputs": [
    {
     "name": "stdout",
     "output_type": "stream",
     "text": [
      "矩阵a:\n",
      " [[11  2  3]\n",
      " [ 4  5 16]\n",
      " [17  8  9]\n",
      " [10 21 12]]\n"
     ]
    }
   ],
   "source": [
    "a[np.arange(4),b]+=10\n",
    "print(\"矩阵a:\\n\",a)\n"
   ]
  },
  {
   "cell_type": "markdown",
   "metadata": {},
   "source": [
    "### array 的数学运算"
   ]
  },
  {
   "cell_type": "markdown",
   "metadata": {},
   "source": [
    "#### 11.  执行 x = np.array([1, 2])，然后输出 x 的数据类型"
   ]
  },
  {
   "cell_type": "code",
   "execution_count": 12,
   "metadata": {},
   "outputs": [
    {
     "name": "stdout",
     "output_type": "stream",
     "text": [
      "<class 'numpy.ndarray'>\n"
     ]
    }
   ],
   "source": [
    "x=np.array([1,2])\n",
    "print(type(x))"
   ]
  },
  {
   "cell_type": "markdown",
   "metadata": {},
   "source": [
    "#### 12.执行 x = np.array([1.0, 2.0]) ，然后输出 x 的数据类类型"
   ]
  },
  {
   "cell_type": "code",
   "execution_count": 13,
   "metadata": {},
   "outputs": [
    {
     "name": "stdout",
     "output_type": "stream",
     "text": [
      "<class 'numpy.ndarray'>\n"
     ]
    }
   ],
   "source": [
    "x=np.array([1.0, 2.0])\n",
    "print(type(x))"
   ]
  },
  {
   "cell_type": "markdown",
   "metadata": {},
   "source": [
    "#### 13.执行 x = np.array([[1, 2], [3, 4]], dtype=np.float64) ，y = np.array([[5, 6], [7, 8]], dtype=np.float64)，然后输出 x+y ,和 np.add(x,y)"
   ]
  },
  {
   "cell_type": "code",
   "execution_count": 14,
   "metadata": {},
   "outputs": [
    {
     "name": "stdout",
     "output_type": "stream",
     "text": [
      "x+y=\n",
      " [[ 6.  8.]\n",
      " [10. 12.]]\n",
      "np.add(x,y)=\n",
      " [[ 6.  8.]\n",
      " [10. 12.]]\n"
     ]
    }
   ],
   "source": [
    "x=np.array([[1,2],[3,4]],dtype=np.float64)\n",
    "y=np.array([[5,6],[7,8]],dtype=np.float64)\n",
    "\n",
    "print(\"x+y=\\n\",x+y)\n",
    "print(\"np.add(x,y)=\\n\",np.add(x,y))"
   ]
  },
  {
   "cell_type": "markdown",
   "metadata": {},
   "source": [
    "#### 14. 利用 13题目中的x,y 输出 x-y 和 np.subtract(x,y)"
   ]
  },
  {
   "cell_type": "code",
   "execution_count": 15,
   "metadata": {},
   "outputs": [
    {
     "name": "stdout",
     "output_type": "stream",
     "text": [
      "x-y:\n",
      " [[-4. -4.]\n",
      " [-4. -4.]]\n",
      "np.subtract(x,y)\n",
      " [[-4. -4.]\n",
      " [-4. -4.]]\n"
     ]
    }
   ],
   "source": [
    "print(\"x-y:\\n\",x-y)\n",
    "print(\"np.subtract(x,y)\\n\",np.subtract(x,y))"
   ]
  },
  {
   "cell_type": "markdown",
   "metadata": {},
   "source": [
    "#### 15. 利用13题目中的x，y 输出 x*y ,和 np.multiply(x, y) 还有  np.dot(x,y),比较差异。然后自己换一个不是方阵的试试。"
   ]
  },
  {
   "cell_type": "code",
   "execution_count": 18,
   "metadata": {},
   "outputs": [
    {
     "name": "stdout",
     "output_type": "stream",
     "text": [
      "x*y=\n",
      " [[ 5. 12.]\n",
      " [21. 32.]]\n",
      "np.nultiply(x,y):\n",
      " [[ 5. 12.]\n",
      " [21. 32.]]\n",
      "np.dot(x,y):\n",
      " [[19. 22.]\n",
      " [43. 50.]]\n",
      "np.dot(a,b)\n",
      " [[22 28]\n",
      " [40 52]]\n"
     ]
    }
   ],
   "source": [
    "print(\"x*y=\\n\",x*y)\n",
    "print(\"np.nultiply(x,y):\\n\",np.multiply(x,y))\n",
    "print(\"np.dot(x,y):\\n\",np.dot(x,y))\n",
    "\n",
    "a=np.array([[1,2,3],[3,4,5]])\n",
    "b=np.array([[1,2],[3,4],[5,6]])\n",
    "#a*b和multiply(a,b)都报错\n",
    "print(\"np.dot(a,b)\\n\",np.dot(a,b))\n"
   ]
  },
  {
   "cell_type": "markdown",
   "metadata": {},
   "source": [
    "#### 16. 利用13题目中的x,y,输出 x / y .(提示 ： 使用函数 np.divide())"
   ]
  },
  {
   "cell_type": "code",
   "execution_count": 19,
   "metadata": {},
   "outputs": [
    {
     "name": "stdout",
     "output_type": "stream",
     "text": [
      "np.divide(x, y):\n",
      " [[0.2        0.33333333]\n",
      " [0.42857143 0.5       ]]\n"
     ]
    }
   ],
   "source": [
    "# 使用 np.divide() 输出 x / y\n",
    "print(\"np.divide(x, y):\\n\", np.divide(x, y))"
   ]
  },
  {
   "cell_type": "markdown",
   "metadata": {},
   "source": [
    "#### 17. 利用13题目中的x,输出 x的 开方。(提示： 使用函数 np.sqrt() )"
   ]
  },
  {
   "cell_type": "code",
   "execution_count": 21,
   "metadata": {},
   "outputs": [
    {
     "name": "stdout",
     "output_type": "stream",
     "text": [
      "np.sqrt(x):\n",
      " [[1.         1.41421356]\n",
      " [1.73205081 2.        ]]\n"
     ]
    }
   ],
   "source": [
    "print(\"np.sqrt(x):\\n\",np.sqrt(x))"
   ]
  },
  {
   "cell_type": "markdown",
   "metadata": {},
   "source": [
    "#### 18.利用13题目中的x,y ,执行 print(x.dot(y)) 和 print(np.dot(x,y))"
   ]
  },
  {
   "cell_type": "code",
   "execution_count": 22,
   "metadata": {},
   "outputs": [
    {
     "name": "stdout",
     "output_type": "stream",
     "text": [
      "x.dot(y):\n",
      " [[19. 22.]\n",
      " [43. 50.]]\n",
      "np.dot(x,y):\n",
      " [[19. 22.]\n",
      " [43. 50.]]\n"
     ]
    }
   ],
   "source": [
    "print(\"x.dot(y):\\n\",x.dot(y))\n",
    "print(\"np.dot(x,y):\\n\",np.dot(x,y))"
   ]
  },
  {
   "cell_type": "markdown",
   "metadata": {},
   "source": [
    "##### 19.利用13题目中的 x,进行求和。提示：输出三种求和 (1)print(np.sum(x)):   (2)print(np.sum(x，axis =0 ));   (3)print(np.sum(x,axis = 1))"
   ]
  },
  {
   "cell_type": "code",
   "execution_count": 23,
   "metadata": {},
   "outputs": [
    {
     "name": "stdout",
     "output_type": "stream",
     "text": [
      "np.sum(x): 10.0\n",
      "np.sum(x, axis=0): [4. 6.]\n",
      "np.sum(x, axis=1): [3. 7.]\n"
     ]
    }
   ],
   "source": [
    "# (1) 对整个数组求和\n",
    "print(\"np.sum(x):\", np.sum(x))\n",
    "\n",
    "# (2) 对每一列求和（沿 axis=0）\n",
    "print(\"np.sum(x, axis=0):\", np.sum(x, axis=0))\n",
    "\n",
    "# (3) 对每一行求和（沿 axis=1）\n",
    "print(\"np.sum(x, axis=1):\", np.sum(x, axis=1))"
   ]
  },
  {
   "cell_type": "markdown",
   "metadata": {},
   "source": [
    "#### 20.利用13题目中的 x,进行求平均数（提示：输出三种平均数(1)print(np.mean(x)) (2)print(np.mean(x,axis = 0))(3) print(np.mean(x,axis =1))）"
   ]
  },
  {
   "cell_type": "code",
   "execution_count": 24,
   "metadata": {},
   "outputs": [
    {
     "name": "stdout",
     "output_type": "stream",
     "text": [
      "np.mean(x): 2.5\n",
      "np.mean(x, axis=0): [2. 3.]\n",
      "np.mean(x, axis=1): [1.5 3.5]\n"
     ]
    }
   ],
   "source": [
    "# (1) 对整个数组求平均数\n",
    "print(\"np.mean(x):\", np.mean(x))\n",
    "\n",
    "# (2) 对每一列求平均数（沿 axis=0）\n",
    "print(\"np.mean(x, axis=0):\", np.mean(x, axis=0))\n",
    "\n",
    "# (3) 对每一行求平均数（沿 axis=1）\n",
    "print(\"np.mean(x, axis=1):\", np.mean(x, axis=1))"
   ]
  },
  {
   "cell_type": "markdown",
   "metadata": {},
   "source": [
    "#### 21.利用13题目中的x，对x 进行矩阵转置，然后输出转置后的结果，（提示： x.T 表示对 x 的转置）"
   ]
  },
  {
   "cell_type": "code",
   "execution_count": 25,
   "metadata": {},
   "outputs": [
    {
     "name": "stdout",
     "output_type": "stream",
     "text": [
      "x.T:\n",
      " [[1. 3.]\n",
      " [2. 4.]]\n"
     ]
    }
   ],
   "source": [
    "print(\"x.T:\\n\",x.T)"
   ]
  },
  {
   "cell_type": "markdown",
   "metadata": {
    "collapsed": true,
    "jupyter": {
     "outputs_hidden": true
    }
   },
   "source": [
    "#### 22.利用13题目中的x,求e的指数（提示： 函数 np.exp()）"
   ]
  },
  {
   "cell_type": "code",
   "execution_count": 26,
   "metadata": {},
   "outputs": [
    {
     "name": "stdout",
     "output_type": "stream",
     "text": [
      "e 的指数（np.exp(x)）:\n",
      " [[ 2.71828183  7.3890561 ]\n",
      " [20.08553692 54.59815003]]\n"
     ]
    }
   ],
   "source": [
    "print(\"e 的指数（np.exp(x)）:\\n\", np.exp(x))"
   ]
  },
  {
   "cell_type": "markdown",
   "metadata": {},
   "source": [
    "#### 23.利用13题目中的 x,求值最大的下标（提示(1)print(np.argmax(x)) ,(2) print(np.argmax(x, axis =0))(3)print(np.argmax(x),axis =1))"
   ]
  },
  {
   "cell_type": "code",
   "execution_count": 27,
   "metadata": {},
   "outputs": [
    {
     "name": "stdout",
     "output_type": "stream",
     "text": [
      "np.argmax(x): 3\n",
      "np.argmax(x, axis=0): [1 1]\n",
      "np.argmax(x, axis=1): [1 1]\n"
     ]
    }
   ],
   "source": [
    "# (1) 对整个数组求值最大的下标\n",
    "print(\"np.argmax(x):\", np.argmax(x))\n",
    "\n",
    "# (2) 对每一列求值最大的下标（沿 axis=0）\n",
    "print(\"np.argmax(x, axis=0):\", np.argmax(x, axis=0))\n",
    "\n",
    "# (3) 对每一行求值最大的下标（沿 axis=1）\n",
    "print(\"np.argmax(x, axis=1):\", np.argmax(x, axis=1))"
   ]
  },
  {
   "cell_type": "markdown",
   "metadata": {},
   "source": [
    "#### 24,画图，y=x*x 其中 x = np.arange(0, 100, 0.1) （提示这里用到  matplotlib.pyplot 库）"
   ]
  },
  {
   "cell_type": "code",
   "execution_count": 28,
   "metadata": {},
   "outputs": [
    {
     "data": {
      "image/png": "[encoded data removed]",
      "text/plain": [
       "<Figure size 1000x600 with 1 Axes>"
      ]
     },
     "metadata": {},
     "output_type": "display_data"
    }
   ],
   "source": [
    "import matplotlib.pyplot as plt\n",
    "\n",
    "# 定义 x 的取值范围\n",
    "x = np.arange(0, 100, 0.1)\n",
    "\n",
    "# 计算 y = x^2\n",
    "y = x ** 2\n",
    "\n",
    "# 创建图形\n",
    "plt.figure(figsize=(10, 6))  # 设置图形大小\n",
    "plt.plot(x, y, label=\"y = x^2\", color=\"blue\")  # 绘制曲线\n",
    "plt.title(\"Plot of y = x^2\")  # 设置标题\n",
    "plt.xlabel(\"x\")  # 设置 x 轴标签\n",
    "plt.ylabel(\"y\")  # 设置 y 轴标签\n",
    "plt.grid(True)  # 显示网格\n",
    "plt.legend()  # 显示图例\n",
    "plt.show()  # 显示图形"
   ]
  },
  {
   "cell_type": "markdown",
   "metadata": {},
   "source": [
    "#### 25.画图。画正弦函数和余弦函数， x = np.arange(0, 3 * np.pi, 0.1)(提示：这里用到 np.sin() np.cos() 函数和 matplotlib.pyplot 库)"
   ]
  },
  {
   "cell_type": "code",
   "execution_count": 29,
   "metadata": {},
   "outputs": [
    {
     "data": {
      "image/png": "[encoded data removed]",
      "text/plain": [
       "<Figure size 1000x600 with 1 Axes>"
      ]
     },
     "metadata": {},
     "output_type": "display_data"
    }
   ],
   "source": [
    "\n",
    "# 定义 x 的取值范围\n",
    "x = np.arange(0, 3 * np.pi, 0.1)\n",
    "\n",
    "# 计算正弦函数和余弦函数\n",
    "y_sin = np.sin(x)  # 正弦函数\n",
    "y_cos = np.cos(x)  # 余弦函数\n",
    "\n",
    "# 创建图形\n",
    "plt.figure(figsize=(10, 6))  # 设置图形大小\n",
    "\n",
    "# 绘制正弦函数\n",
    "plt.plot(x, y_sin, label=\"y = sin(x)\", color=\"blue\")\n",
    "\n",
    "# 绘制余弦函数\n",
    "plt.plot(x, y_cos, label=\"y = cos(x)\", color=\"red\")\n",
    "\n",
    "# 设置图形标题和标签\n",
    "plt.title(\"Plot of sin(x) and cos(x)\")  # 标题\n",
    "plt.xlabel(\"x\")  # x 轴标签\n",
    "plt.ylabel(\"y\")  # y 轴标签\n",
    "\n",
    "# 显示网格\n",
    "plt.grid(True)\n",
    "\n",
    "# 显示图例\n",
    "plt.legend()\n",
    "\n",
    "# 显示图形\n",
    "plt.show()"
   ]
  },
  {
   "cell_type": "code",
   "execution_count": null,
   "metadata": {},
   "outputs": [],
   "source": []
  }
 ],
 "metadata": {
  "anaconda-cloud": {},
  "kernelspec": {
   "display_name": "Python 3 (ipykernel)",
   "language": "python",
   "name": "python3"
  },
  "language_info": {
   "codemirror_mode": {
    "name": "ipython",
    "version": 3
   },
   "file_extension": ".py",
   "mimetype": "text/x-python",
   "name": "python",
   "nbconvert_exporter": "python",
   "pygments_lexer": "ipython3",
   "version": "3.11.5"
  }
 },
 "nbformat": 4,
 "nbformat_minor": 4
}
